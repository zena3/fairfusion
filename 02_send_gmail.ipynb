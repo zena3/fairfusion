{
 "cells": [
  {
   "cell_type": "code",
   "execution_count": 1,
   "source": [
    "# default_exp core"
   ],
   "outputs": [],
   "metadata": {}
  },
  {
   "cell_type": "markdown",
   "source": [
    "# Sending notification email\n",
    "Requirements\n",
    "- If the termperature is above 28 degrees celsius, send one warning email.\n",
    "- If the temperature is below 15 degrees celsius, send one warning email."
   ],
   "metadata": {}
  },
  {
   "cell_type": "code",
   "execution_count": null,
   "source": [
    "source: https://stackabuse.com/how-to-send-emails-with-gmail-using-python/"
   ],
   "outputs": [],
   "metadata": {}
  },
  {
   "cell_type": "code",
   "execution_count": null,
   "source": [
    "import nbdev_template\n",
    "import smtplib"
   ],
   "outputs": [],
   "metadata": {}
  },
  {
   "cell_type": "code",
   "execution_count": null,
   "source": [
    "#set your credentials (idealy from another file but this needs to be worked out)\n",
    "gmail_user = 'you@gmail.com'\n",
    "gmail_password = 'P@ssword!'"
   ],
   "outputs": [],
   "metadata": {}
  },
  {
   "cell_type": "code",
   "execution_count": null,
   "source": [
    "#set email details\n",
    "sent_from = gmail_user\n",
    "to = ['me@gmail.com', 'bill@gmail.com']\n",
    "subject = 'OMG Super Important Message'\n",
    "body = 'Hey, what's up?\\n\\n- You'\n",
    "\n",
    "email_text = \"\"\"\\\n",
    "From: %s\n",
    "To: %s\n",
    "Subject: %s\n",
    "\n",
    "%s\n",
    "\"\"\" % (sent_from, \", \".join(to), subject, body)\n",
    "\n",
    "try:\n",
    "    server = smtplib.SMTP_SSL('smtp.gmail.com', 465)\n",
    "    server.ehlo()\n",
    "    server.login(gmail_user, gmail_password)\n",
    "    server.sendmail(sent_from, to, email_text)\n",
    "    server.close()\n",
    "\n",
    "    print 'Email sent!'\n",
    "except:\n",
    "    print 'Something went wrong...'"
   ],
   "outputs": [],
   "metadata": {}
  },
  {
   "cell_type": "code",
   "execution_count": null,
   "source": [
    "# import env_vars\n",
    "# login(env_vars.username, env_vars.password)\n"
   ],
   "outputs": [],
   "metadata": {}
  }
 ],
 "metadata": {
  "kernelspec": {
   "name": "python3",
   "display_name": "Python 3.9.1 64-bit ('snowflakes': conda)"
  },
  "language_info": {
   "codemirror_mode": {
    "name": "ipython",
    "version": 3
   },
   "file_extension": ".py",
   "mimetype": "text/x-python",
   "name": "python",
   "nbconvert_exporter": "python",
   "pygments_lexer": "ipython3",
   "version": "3.9.1"
  },
  "interpreter": {
   "hash": "75eaa9c0566b8e80d1a6c68a53de860947a249f7152354dce92e6ac7af4412e9"
  }
 },
 "nbformat": 4,
 "nbformat_minor": 2
}