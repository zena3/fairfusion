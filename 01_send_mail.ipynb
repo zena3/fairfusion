{
 "cells": [
  {
   "cell_type": "code",
   "execution_count": 1,
   "source": [
    "# default_exp core"
   ],
   "outputs": [],
   "metadata": {}
  },
  {
   "cell_type": "markdown",
   "source": [
    "# Sending notification email\n",
    "Requirements\n",
    "- If the termperature is above 28 degrees celsius, send one warning email.\n",
    "- If the temperature is below 15 degrees celsius, send one warning email."
   ],
   "metadata": {}
  },
  {
   "cell_type": "code",
   "execution_count": null,
   "source": [
    "import nbdev_template\n",
    "import os\n",
    "import smtplib\n",
    "import imghdr\n",
    "from email.message import EmailMessage"
   ],
   "outputs": [],
   "metadata": {}
  },
  {
   "cell_type": "code",
   "execution_count": null,
   "source": [
    "#to encrypt trafic\n",
    "#smtp.starttls"
   ],
   "outputs": [],
   "metadata": {}
  },
  {
   "cell_type": "code",
   "execution_count": null,
   "source": [
    "#deviation from 22 degrees of more than +/- 1 degree\n",
    "EMAIL_ADDRESS = os.environ.get('EMAIL_USER')\n",
    "EMAIL_PASSWORD = os.environ.get('EMAIL_PASS')\n",
    "\n",
    "contacts = ['YourAddress@gmail.com', 'test@example.com']\n",
    "\n",
    "msg = EmailMessage()\n",
    "msg['Subject'] = 'Check out Bronx as a puppy!'\n",
    "msg['From'] = EMAIL_ADDRESS\n",
    "msg['To'] = 'YourAddress@gmail.com'\n",
    "\n",
    "msg.set_content('This is a plain text email')\n",
    "\n",
    "msg.add_alternative(\"\"\"\\\n",
    "<!DOCTYPE html>\n",
    "<html>\n",
    "    <body>\n",
    "        <h1 style=\"color:SlateGray;\">This is an HTML Email!</h1>\n",
    "    </body>\n",
    "</html>\n",
    "\"\"\", subtype='html')\n",
    "\n",
    "\n",
    "with smtplib.SMTP_SSL('smtp.gmail.com', 465) as smtp:\n",
    "    smtp.login(EMAIL_ADDRESS, EMAIL_PASSWORD)\n",
    "    smtp.send_message(msg)"
   ],
   "outputs": [],
   "metadata": {}
  }
 ],
 "metadata": {
  "kernelspec": {
   "name": "python3",
   "display_name": "Python 3.9.1 64-bit ('snowflakes': conda)"
  },
  "language_info": {
   "codemirror_mode": {
    "name": "ipython",
    "version": 3
   },
   "file_extension": ".py",
   "mimetype": "text/x-python",
   "name": "python",
   "nbconvert_exporter": "python",
   "pygments_lexer": "ipython3",
   "version": "3.9.1"
  },
  "interpreter": {
   "hash": "75eaa9c0566b8e80d1a6c68a53de860947a249f7152354dce92e6ac7af4412e9"
  }
 },
 "nbformat": 4,
 "nbformat_minor": 2
}